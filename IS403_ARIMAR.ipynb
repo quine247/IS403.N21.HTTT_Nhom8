{
  "nbformat": 4,
  "nbformat_minor": 0,
  "metadata": {
    "colab": {
      "provenance": []
    },
    "kernelspec": {
      "name": "python3",
      "display_name": "Python 3"
    },
    "language_info": {
      "name": "python"
    }
  },
  "cells": [
    {
      "cell_type": "code",
      "source": [
        "# 1. Các thư viện cần thiết\n",
        "import numpy as np\n",
        "import pandas as pd\n",
        "import matplotlib.pyplot as plt\n",
        "from sklearn.preprocessing import MinMaxScaler\n",
        "from sklearn.linear_model import LinearRegression\n"
      ],
      "metadata": {
        "id": "TOsoPjnYzZCW"
      },
      "execution_count": 1,
      "outputs": []
    },
    {
      "cell_type": "code",
      "source": [
        "# 2. Đọc file dữ liệu chứng khoán AAPL và chia train test validate theo tỉ lệ 7:1:2\n",
        "df = pd.read_csv('EBAY.csv')\n",
        "df = df[['Close']]\n",
        "df = df.dropna() # Drop missing values\n",
        "df = df.reset_index(drop=True) # Reset the index\n",
        "\n",
        "# Split the data into training, testing, and validation sets\n",
        "train_size = int(0.7 * len(df))\n",
        "test_size = int(0.2 * len(df))\n",
        "val_size = len(df) - train_size - test_size\n",
        "\n",
        "train_data = df[:train_size]\n",
        "test_data = df[train_size:train_size+test_size]\n",
        "val_data = df[train_size+test_size:]"
      ],
      "metadata": {
        "id": "gJuOh8-y_Uif"
      },
      "execution_count": 2,
      "outputs": []
    },
    {
      "cell_type": "code",
      "source": [
        "!pip install pmdarima"
      ],
      "metadata": {
        "colab": {
          "base_uri": "https://localhost:8080/"
        },
        "id": "7UFsUvowFUjd",
        "outputId": "fc71857d-9434-47e9-a75a-8e66aa7de59e"
      },
      "execution_count": 3,
      "outputs": [
        {
          "output_type": "stream",
          "name": "stdout",
          "text": [
            "Looking in indexes: https://pypi.org/simple, https://us-python.pkg.dev/colab-wheels/public/simple/\n",
            "Collecting pmdarima\n",
            "  Downloading pmdarima-2.0.3-cp310-cp310-manylinux_2_17_x86_64.manylinux2014_x86_64.manylinux_2_28_x86_64.whl (1.8 MB)\n",
            "\u001b[2K     \u001b[90m━━━━━━━━━━━━━━━━━━━━━━━━━━━━━━━━━━━━━━━━\u001b[0m \u001b[32m1.8/1.8 MB\u001b[0m \u001b[31m21.0 MB/s\u001b[0m eta \u001b[36m0:00:00\u001b[0m\n",
            "\u001b[?25hRequirement already satisfied: joblib>=0.11 in /usr/local/lib/python3.10/dist-packages (from pmdarima) (1.2.0)\n",
            "Requirement already satisfied: Cython!=0.29.18,!=0.29.31,>=0.29 in /usr/local/lib/python3.10/dist-packages (from pmdarima) (0.29.34)\n",
            "Requirement already satisfied: numpy>=1.21.2 in /usr/local/lib/python3.10/dist-packages (from pmdarima) (1.22.4)\n",
            "Requirement already satisfied: pandas>=0.19 in /usr/local/lib/python3.10/dist-packages (from pmdarima) (1.5.3)\n",
            "Requirement already satisfied: scikit-learn>=0.22 in /usr/local/lib/python3.10/dist-packages (from pmdarima) (1.2.2)\n",
            "Requirement already satisfied: scipy>=1.3.2 in /usr/local/lib/python3.10/dist-packages (from pmdarima) (1.10.1)\n",
            "Requirement already satisfied: statsmodels>=0.13.2 in /usr/local/lib/python3.10/dist-packages (from pmdarima) (0.13.5)\n",
            "Requirement already satisfied: urllib3 in /usr/local/lib/python3.10/dist-packages (from pmdarima) (1.26.15)\n",
            "Requirement already satisfied: setuptools!=50.0.0,>=38.6.0 in /usr/local/lib/python3.10/dist-packages (from pmdarima) (67.7.2)\n",
            "Requirement already satisfied: python-dateutil>=2.8.1 in /usr/local/lib/python3.10/dist-packages (from pandas>=0.19->pmdarima) (2.8.2)\n",
            "Requirement already satisfied: pytz>=2020.1 in /usr/local/lib/python3.10/dist-packages (from pandas>=0.19->pmdarima) (2022.7.1)\n",
            "Requirement already satisfied: threadpoolctl>=2.0.0 in /usr/local/lib/python3.10/dist-packages (from scikit-learn>=0.22->pmdarima) (3.1.0)\n",
            "Requirement already satisfied: patsy>=0.5.2 in /usr/local/lib/python3.10/dist-packages (from statsmodels>=0.13.2->pmdarima) (0.5.3)\n",
            "Requirement already satisfied: packaging>=21.3 in /usr/local/lib/python3.10/dist-packages (from statsmodels>=0.13.2->pmdarima) (23.1)\n",
            "Requirement already satisfied: six in /usr/local/lib/python3.10/dist-packages (from patsy>=0.5.2->statsmodels>=0.13.2->pmdarima) (1.16.0)\n",
            "Installing collected packages: pmdarima\n",
            "Successfully installed pmdarima-2.0.3\n"
          ]
        }
      ]
    },
    {
      "cell_type": "code",
      "source": [
        "# 3. Quá trình Training\n",
        "x_train = np.array(train_data.index).reshape(-1, 1)\n",
        "y_train = np.array(train_data['Close'])\n",
        "\n",
        "# Find the best ARIMA model using auto_arima\n",
        "from pmdarima.arima import auto_arima\n",
        "model = auto_arima(y_train, trace=True, error_action='ignore', suppress_warnings=True)\n",
        "\n",
        "# Fit the model\n",
        "model.fit(y_train)"
      ],
      "metadata": {
        "colab": {
          "base_uri": "https://localhost:8080/",
          "height": 248
        },
        "id": "JbQNK8an_imI",
        "outputId": "63b0c8ba-a7ad-4664-9f9c-2abbd6a9cba9"
      },
      "execution_count": 4,
      "outputs": [
        {
          "output_type": "stream",
          "name": "stdout",
          "text": [
            "Performing stepwise search to minimize aic\n",
            " ARIMA(2,1,2)(0,0,0)[0] intercept   : AIC=2226.012, Time=3.10 sec\n",
            " ARIMA(0,1,0)(0,0,0)[0] intercept   : AIC=2218.185, Time=0.12 sec\n",
            " ARIMA(1,1,0)(0,0,0)[0] intercept   : AIC=2220.055, Time=0.20 sec\n",
            " ARIMA(0,1,1)(0,0,0)[0] intercept   : AIC=2220.054, Time=0.29 sec\n",
            " ARIMA(0,1,0)(0,0,0)[0]             : AIC=2217.470, Time=0.07 sec\n",
            " ARIMA(1,1,1)(0,0,0)[0] intercept   : AIC=2222.042, Time=0.34 sec\n",
            "\n",
            "Best model:  ARIMA(0,1,0)(0,0,0)[0]          \n",
            "Total fit time: 4.166 seconds\n"
          ]
        },
        {
          "output_type": "execute_result",
          "data": {
            "text/plain": [
              "ARIMA(order=(0, 1, 0), scoring_args={}, suppress_warnings=True,\n",
              "      with_intercept=False)"
            ],
            "text/html": [
              "<style>#sk-container-id-1 {color: black;background-color: white;}#sk-container-id-1 pre{padding: 0;}#sk-container-id-1 div.sk-toggleable {background-color: white;}#sk-container-id-1 label.sk-toggleable__label {cursor: pointer;display: block;width: 100%;margin-bottom: 0;padding: 0.3em;box-sizing: border-box;text-align: center;}#sk-container-id-1 label.sk-toggleable__label-arrow:before {content: \"▸\";float: left;margin-right: 0.25em;color: #696969;}#sk-container-id-1 label.sk-toggleable__label-arrow:hover:before {color: black;}#sk-container-id-1 div.sk-estimator:hover label.sk-toggleable__label-arrow:before {color: black;}#sk-container-id-1 div.sk-toggleable__content {max-height: 0;max-width: 0;overflow: hidden;text-align: left;background-color: #f0f8ff;}#sk-container-id-1 div.sk-toggleable__content pre {margin: 0.2em;color: black;border-radius: 0.25em;background-color: #f0f8ff;}#sk-container-id-1 input.sk-toggleable__control:checked~div.sk-toggleable__content {max-height: 200px;max-width: 100%;overflow: auto;}#sk-container-id-1 input.sk-toggleable__control:checked~label.sk-toggleable__label-arrow:before {content: \"▾\";}#sk-container-id-1 div.sk-estimator input.sk-toggleable__control:checked~label.sk-toggleable__label {background-color: #d4ebff;}#sk-container-id-1 div.sk-label input.sk-toggleable__control:checked~label.sk-toggleable__label {background-color: #d4ebff;}#sk-container-id-1 input.sk-hidden--visually {border: 0;clip: rect(1px 1px 1px 1px);clip: rect(1px, 1px, 1px, 1px);height: 1px;margin: -1px;overflow: hidden;padding: 0;position: absolute;width: 1px;}#sk-container-id-1 div.sk-estimator {font-family: monospace;background-color: #f0f8ff;border: 1px dotted black;border-radius: 0.25em;box-sizing: border-box;margin-bottom: 0.5em;}#sk-container-id-1 div.sk-estimator:hover {background-color: #d4ebff;}#sk-container-id-1 div.sk-parallel-item::after {content: \"\";width: 100%;border-bottom: 1px solid gray;flex-grow: 1;}#sk-container-id-1 div.sk-label:hover label.sk-toggleable__label {background-color: #d4ebff;}#sk-container-id-1 div.sk-serial::before {content: \"\";position: absolute;border-left: 1px solid gray;box-sizing: border-box;top: 0;bottom: 0;left: 50%;z-index: 0;}#sk-container-id-1 div.sk-serial {display: flex;flex-direction: column;align-items: center;background-color: white;padding-right: 0.2em;padding-left: 0.2em;position: relative;}#sk-container-id-1 div.sk-item {position: relative;z-index: 1;}#sk-container-id-1 div.sk-parallel {display: flex;align-items: stretch;justify-content: center;background-color: white;position: relative;}#sk-container-id-1 div.sk-item::before, #sk-container-id-1 div.sk-parallel-item::before {content: \"\";position: absolute;border-left: 1px solid gray;box-sizing: border-box;top: 0;bottom: 0;left: 50%;z-index: -1;}#sk-container-id-1 div.sk-parallel-item {display: flex;flex-direction: column;z-index: 1;position: relative;background-color: white;}#sk-container-id-1 div.sk-parallel-item:first-child::after {align-self: flex-end;width: 50%;}#sk-container-id-1 div.sk-parallel-item:last-child::after {align-self: flex-start;width: 50%;}#sk-container-id-1 div.sk-parallel-item:only-child::after {width: 0;}#sk-container-id-1 div.sk-dashed-wrapped {border: 1px dashed gray;margin: 0 0.4em 0.5em 0.4em;box-sizing: border-box;padding-bottom: 0.4em;background-color: white;}#sk-container-id-1 div.sk-label label {font-family: monospace;font-weight: bold;display: inline-block;line-height: 1.2em;}#sk-container-id-1 div.sk-label-container {text-align: center;}#sk-container-id-1 div.sk-container {/* jupyter's `normalize.less` sets `[hidden] { display: none; }` but bootstrap.min.css set `[hidden] { display: none !important; }` so we also need the `!important` here to be able to override the default hidden behavior on the sphinx rendered scikit-learn.org. See: https://github.com/scikit-learn/scikit-learn/issues/21755 */display: inline-block !important;position: relative;}#sk-container-id-1 div.sk-text-repr-fallback {display: none;}</style><div id=\"sk-container-id-1\" class=\"sk-top-container\"><div class=\"sk-text-repr-fallback\"><pre> ARIMA(0,1,0)(0,0,0)[0]          </pre><b>In a Jupyter environment, please rerun this cell to show the HTML representation or trust the notebook. <br />On GitHub, the HTML representation is unable to render, please try loading this page with nbviewer.org.</b></div><div class=\"sk-container\" hidden><div class=\"sk-item\"><div class=\"sk-estimator sk-toggleable\"><input class=\"sk-toggleable__control sk-hidden--visually\" id=\"sk-estimator-id-1\" type=\"checkbox\" checked><label for=\"sk-estimator-id-1\" class=\"sk-toggleable__label sk-toggleable__label-arrow\">ARIMA</label><div class=\"sk-toggleable__content\"><pre> ARIMA(0,1,0)(0,0,0)[0]          </pre></div></div></div></div></div>"
            ]
          },
          "metadata": {},
          "execution_count": 4
        }
      ]
    },
    {
      "cell_type": "code",
      "source": [
        "# 4. Quá trình testing \n",
        "x_test = np.array(test_data.index).reshape(-1, 1)\n",
        "y_test = np.array(test_data['Close'])\n",
        "y_pred = model.predict(n_periods=len(y_test))\n",
        "\n",
        "history = y_train[-1]\n",
        "# chuyển đổi mảng numpy thành đối tượng Series\n",
        "y_train_series = pd.Series(y_train)\n",
        "\n",
        "# tính độ lệch chuẩn của phân phối nhiễu trắng\n",
        "std_test = y_train_series.diff().dropna().std()\n",
        "random_walk_pred_test = []\n",
        "\n",
        "for i in range(len(y_test)):\n",
        "    yhat = history + np.random.normal(scale=std_test)\n",
        "    random_walk_pred_test.append(yhat)\n",
        "    obs = y_test[i]\n",
        "    history = obs\n",
        "\n",
        "hybrid_pred_test = np.multiply(0.1, y_pred) + np.multiply(0.9, random_walk_pred_test)\n",
        "print(hybrid_pred_test.shape)\n",
        "\n",
        "# 5. Quá trình Validate\n",
        "x_val= np.array(val_data.index).reshape(-1, 1)\n",
        "y_val = np.array(val_data['Close'])\n",
        "y_pred_val =  model.predict(n_periods=len(y_val))\n",
        "history = y_test[-1]\n",
        "# chuyển đổi mảng numpy thành đối tượng Series\n",
        "y_test_series = pd.Series(y_test)\n",
        "\n",
        "# tính độ lệch chuẩn của phân phối nhiễu trắng\n",
        "std_val = y_test_series.diff().dropna().std()\n",
        "random_walk_pred_val = []\n",
        "\n",
        "for i in range(len(y_val)):\n",
        "    yhat = history + np.random.normal(scale=std_val)\n",
        "    random_walk_pred_val.append(yhat)\n",
        "    obs = y_val[i]\n",
        "    history = obs\n",
        "\n",
        "hybrid_pred_val = np.multiply(0.1, y_pred_val) + np.multiply(0.9, random_walk_pred_val)\n",
        "print(hybrid_pred_val)"
      ],
      "metadata": {
        "id": "tq3vSOvd_xL3",
        "colab": {
          "base_uri": "https://localhost:8080/"
        },
        "outputId": "9ec9cf51-fc61-4880-ac09-a9dc086677ef"
      },
      "execution_count": 16,
      "outputs": [
        {
          "output_type": "stream",
          "name": "stdout",
          "text": [
            "(222,)\n",
            "[42.82243124 42.03818148 42.99120446 42.37537804 41.36585099 40.31686561\n",
            " 40.81459344 43.32054394 42.75513414 45.5209079  44.40631526 45.67211064\n",
            " 45.75385422 45.358942   45.13803891 47.86982859 46.94822688 48.37705939\n",
            " 49.03326876 46.82388016 45.15272628 46.55700611 47.99194131 47.39597335\n",
            " 52.48490073 48.14922262 48.42261082 50.35190753 49.71976713 52.08122956\n",
            " 50.35900471 51.1708389  50.27914606 50.31679062 50.18050983 49.71059348\n",
            " 49.69730956 49.49600708 49.26900058 48.88752107 49.11139588 49.21732094\n",
            " 49.76279685 48.75210708 46.22872254 43.71313    46.5443055  46.56430069\n",
            " 46.54132294 46.75821193 46.13251934 46.06861774 43.73898894 46.32611911\n",
            " 43.69237596 43.39973529 43.66636889 43.13309104 41.92638035 44.04468451\n",
            " 43.67291032 43.51186724 46.54776136 42.39271861 42.86790067 43.98735221\n",
            " 45.12607301 45.34598399 44.40173479 46.46526675 46.02871819 45.71590118\n",
            " 43.59619132 45.92658794 45.1548227  45.24202942 43.90898919 43.59657967\n",
            " 45.6406248  45.84499507 44.3660243  45.67143778 46.70260069 44.5210507\n",
            " 43.31666148 46.42060843 44.01012255 45.09396084 47.99417065 46.58639074\n",
            " 47.22605889 45.01580285 45.78761229 45.57591283 48.55644903 45.90108002\n",
            " 47.95230166 44.28136572 45.93712623 45.93572682 45.32898958 44.008427\n",
            " 47.64196778 45.39228108 44.4954074  47.15417935 45.0301686  44.70000142\n",
            " 46.10158939 45.14159154 45.19886209 43.50716504]\n"
          ]
        }
      ]
    },
    {
      "cell_type": "code",
      "source": [
        "# 6. Quá trình tạo index predict 30 ngày tiếp theo\n",
        "last_index =  df.index[-1]\n",
        "last_data = pd.RangeIndex(start=last_index, stop=last_index+30, step=1)\n",
        "\n",
        "# Create an array of 30 consecutive integers starting from last_index\n",
        "x_next_30_days = np.array(range(last_index+1, last_index+31)).reshape(-1, 1)\n",
        "\n",
        "# Predict the closing prices for the next 30 days\n",
        "y_next_30_days = model.predict(n_periods=len(x_next_30_days))\n",
        "\n",
        "history = y_val[-1]\n",
        "# chuyển đổi mảng numpy thành đối tượng Series\n",
        "y_val_series = pd.Series(y_val)\n",
        "\n",
        "# tính độ lệch chuẩn của phân phối nhiễu trắng\n",
        "std_next_30s = y_val_series.diff().dropna().std()\n",
        "random_walk_pred_next = []\n",
        "\n",
        "for i in range(len(y_next_30_days)):\n",
        "    yhat = history + np.random.normal(scale=std_next_30s)\n",
        "    random_walk_pred_next.append(yhat)\n",
        "    obs = y_next_30_days[i]\n",
        "    history = obs\n",
        "\n",
        "hybrid_pred_next = np.multiply(0.1, y_next_30_days) + np.multiply(0.9, random_walk_pred_next)\n",
        "print('Predicted closing prices for the next 30 days:')\n",
        "print(hybrid_pred_next)"
      ],
      "metadata": {
        "colab": {
          "base_uri": "https://localhost:8080/"
        },
        "id": "mI2qmayj_-rD",
        "outputId": "6f89227d-1f6f-471e-cc04-6cd043a8efba"
      },
      "execution_count": 17,
      "outputs": [
        {
          "output_type": "stream",
          "name": "stdout",
          "text": [
            "Predicted closing prices for the next 30 days:\n",
            "[43.31771724 57.80166512 58.67030436 56.61368358 58.65735138 59.80288482\n",
            " 59.9274129  60.30059815 59.61149951 59.87082659 57.73964141 59.02351527\n",
            " 59.07198621 58.35390524 58.3249417  59.51404281 58.35557538 58.90442596\n",
            " 58.81804951 58.47387041 58.92727356 58.39666012 58.79331581 58.80146947\n",
            " 58.89031318 58.95482134 59.75934016 58.41859705 59.31655631 58.73608285]\n"
          ]
        }
      ]
    },
    {
      "cell_type": "code",
      "source": [
        "# 7. Đánh giá độ chính xác validate, test\n",
        "valid_rmse = np.sqrt(np.mean((y_pred_val - y_val)**2))\n",
        "valid_rw_rmse = np.sqrt(np.mean((hybrid_pred_val - y_val)**2))\n",
        "test_rmse = np.sqrt(np.mean((y_pred - y_test)**2))\n",
        "test_rw_rmse = np.sqrt(np.mean((hybrid_pred_test - y_test)**2))\n",
        "print('Validation RMSE:', valid_rw_rmse)\n",
        "print('Testing RMSE:', test_rw_rmse)\n"
      ],
      "metadata": {
        "id": "JwcVt4wgAHCy",
        "colab": {
          "base_uri": "https://localhost:8080/"
        },
        "outputId": "a55fdad1-ea5a-4b3c-8806-44e10c0d8838"
      },
      "execution_count": 18,
      "outputs": [
        {
          "output_type": "stream",
          "name": "stdout",
          "text": [
            "Validation RMSE: 1.9080045638115057\n",
            "Testing RMSE: 1.926419275185175\n"
          ]
        }
      ]
    },
    {
      "cell_type": "code",
      "source": [
        "plt.plot(train_data.index, train_data['Close'])\n",
        "plt.plot(test_data.index, test_data['Close'])\n",
        "plt.plot(test_data.index, hybrid_pred_test)\n",
        "plt.plot(val_data.index, val_data['Close'])\n",
        "plt.plot(val_data.index, hybrid_pred_val)\n",
        "plt.plot(last_data,hybrid_pred_next)\n",
        "plt.legend(['Train', 'Test', 'Predictions','Validate','ValidatePred','Next30Day'])\n",
        "plt.show()"
      ],
      "metadata": {
        "colab": {
          "base_uri": "https://localhost:8080/",
          "height": 431
        },
        "id": "DE3Pge7a0EHs",
        "outputId": "f497cf20-7f64-4996-fe86-694d70d13353"
      },
      "execution_count": 20,
      "outputs": [
        {
          "output_type": "display_data",
          "data": {
            "text/plain": [
              "<Figure size 640x480 with 1 Axes>"
            ],
            "image/png": "[encoded data removed]"
          },
          "metadata": {}
        }
      ]
    },
    {
      "cell_type": "code",
      "source": [
        "test_data.index"
      ],
      "metadata": {
        "colab": {
          "base_uri": "https://localhost:8080/"
        },
        "id": "Eyxpcd3v7i-k",
        "outputId": "54b16179-09d6-48ec-a50f-847bcfe6898c"
      },
      "execution_count": 9,
      "outputs": [
        {
          "output_type": "execute_result",
          "data": {
            "text/plain": [
              "RangeIndex(start=778, stop=1000, step=1)"
            ]
          },
          "metadata": {},
          "execution_count": 9
        }
      ]
    }
  ]
}